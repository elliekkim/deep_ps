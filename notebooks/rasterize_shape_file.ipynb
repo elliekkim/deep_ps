{
 "cells": [
  {
   "cell_type": "markdown",
   "metadata": {},
   "source": [
    "# In this notebook\n",
    "I show how to convert a shapefile into a rasterized dataset."
   ]
  },
  {
   "cell_type": "code",
   "execution_count": 1,
   "metadata": {},
   "outputs": [],
   "source": [
    "import numpy as np\n",
    "from matplotlib import pyplot as plt\n",
    "import geopandas as gpd\n",
    "import rasterio as rio\n",
    "from rasterio.mask import mask\n",
    "from rasterio.features import rasterize"
   ]
  },
  {
   "cell_type": "code",
   "execution_count": 2,
   "metadata": {},
   "outputs": [],
   "source": [
    "# We first load the shapefile, then set the coordinate reference system.\n",
    "gdf = gpd.read_file(\"../data/durham_july_2023/durham_july_2023_block_group.shp\")\n",
    "gdf.set_crs(epsg=4326, inplace=True)\n",
    "gdf.to_crs(epsg=3857, inplace=True)"
   ]
  },
  {
   "cell_type": "markdown",
   "metadata": {},
   "source": [
    "The next cell converts the shape file into a rasterized geometry."
   ]
  },
  {
   "cell_type": "code",
   "execution_count": 4,
   "metadata": {},
   "outputs": [],
   "source": [
    "\n",
    "# Read the raster file that will be used as a template\n",
    "with rio.open(\"../data/july2023_eve.tif\") as src:\n",
    "    out_meta = src.meta.copy()\n",
    "    orig_data_shape = src.read(1).shape\n",
    "    out_image, out_transform = mask(src, gdf.geometry, crop=False)\n",
    "\n",
    "# Update the metadata for the output raster\n",
    "out_meta.update({\"driver\": \"GTiff\",\n",
    "                 \"height\": out_image.shape[1],\n",
    "                 \"width\": out_image.shape[2],\n",
    "                 \"transform\": out_transform})\n",
    "\n",
    "# Burn the shapefile into the raster\n",
    "with rio.open(\"output_raster.tif\", \"w\", **out_meta) as dest:\n",
    "    shapes = ((geom, val) for geom, val in zip(gdf.geometry, gdf['m2_temp']) )  # Burn value of 1\n",
    "    burned = rasterize(shapes=shapes, fill=0, out=out_image, transform=out_transform)\n",
    "    dest.write_band(1, burned[0, :, :])"
   ]
  },
  {
   "cell_type": "markdown",
   "metadata": {},
   "source": [
    "Let's confirm that this looks right!"
   ]
  },
  {
   "cell_type": "code",
   "execution_count": 5,
   "metadata": {},
   "outputs": [
    {
     "data": {
      "image/png": "[encoded data removed]",
      "text/plain": [
       "<Figure size 640x480 with 2 Axes>"
      ]
     },
     "metadata": {},
     "output_type": "display_data"
    }
   ],
   "source": [
    "with rio.open('output_raster.tif') as src:\n",
    "    data = src.read(1)\n",
    "\n",
    "data[data < 0] = np.nan\n",
    "plt.imshow(data, cmap='coolwarm')\n",
    "plt.colorbar()\n",
    "plt.axis('off')\n",
    "assert data.shape == orig_data_shape"
   ]
  }
 ],
 "metadata": {
  "kernelspec": {
   "display_name": "uhi",
   "language": "python",
   "name": "python3"
  },
  "language_info": {
   "codemirror_mode": {
    "name": "ipython",
    "version": 3
   },
   "file_extension": ".py",
   "mimetype": "text/x-python",
   "name": "python",
   "nbconvert_exporter": "python",
   "pygments_lexer": "ipython3",
   "version": "3.11.10"
  }
 },
 "nbformat": 4,
 "nbformat_minor": 2
}
